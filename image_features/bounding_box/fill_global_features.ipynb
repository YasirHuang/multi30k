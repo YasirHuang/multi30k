{
 "cells": [
  {
   "cell_type": "code",
   "execution_count": 1,
   "metadata": {},
   "outputs": [],
   "source": [
    "import numpy as np\n",
    "def fill(bbx_file, in_feat_file, out_bbx_file):\n",
    "    bbxs = np.load(bbx_file, allow_pickle=True, encoding='bytes')\n",
    "    in_feats = np.load(in_feat_file, allow_pickle=True)\n",
    "    new_bbxs = []\n",
    "    for feat, bbx in zip(in_feats, bbxs):\n",
    "        keys = bbx.keys()\n",
    "        for k in keys:\n",
    "            for i in range(len(bbx[k])):\n",
    "                bbx[k][i] = feat\n",
    "        new_bbxs.append(bbx)\n",
    "    np.save(out_bbx_file, new_bbxs)\n",
    "    return new_bbxs\n",
    "        \n",
    "        "
   ]
  },
  {
   "cell_type": "code",
   "execution_count": 2,
   "metadata": {},
   "outputs": [],
   "source": [
    "train_in_bbx_file = \"./flickr30k_train_resnet50_boundingbox_global.npy\"\n",
    "train_in_feat_file = \"/home/xhuang/work/corpus/multi30k/image_features/flickr30k_train_resnet50_cnn_features_global.npy\"\n",
    "train_out_bbx_file = \"./flickr30k_train_resnet50_global.npy\"\n",
    "\n",
    "new_bbxs = fill(train_in_bbx_file, train_in_feat_file, train_out_bbx_file)"
   ]
  },
  {
   "cell_type": "code",
   "execution_count": 3,
   "metadata": {},
   "outputs": [
    {
     "name": "stdout",
     "output_type": "stream",
     "text": [
      "length= 29000\n",
      "dict_keys([b'1', b'3', b'2', b'5', b'4', b'7', b'6'])\n",
      "b'1'\n",
      "2\n",
      "2048\n",
      "[array([0.4903456 , 0.6538341 , 0.50474566, ..., 0.33293316, 0.41504365,\n",
      "       0.19594885], dtype=float32), array([0.4903456 , 0.6538341 , 0.50474566, ..., 0.33293316, 0.41504365,\n",
      "       0.19594885], dtype=float32)]\n",
      "b'3'\n",
      "2\n",
      "2048\n",
      "[array([0.4903456 , 0.6538341 , 0.50474566, ..., 0.33293316, 0.41504365,\n",
      "       0.19594885], dtype=float32), array([0.4903456 , 0.6538341 , 0.50474566, ..., 0.33293316, 0.41504365,\n",
      "       0.19594885], dtype=float32)]\n",
      "b'2'\n",
      "2\n",
      "2048\n",
      "[array([0.4903456 , 0.6538341 , 0.50474566, ..., 0.33293316, 0.41504365,\n",
      "       0.19594885], dtype=float32), array([0.4903456 , 0.6538341 , 0.50474566, ..., 0.33293316, 0.41504365,\n",
      "       0.19594885], dtype=float32)]\n",
      "b'5'\n",
      "2\n",
      "2048\n",
      "[array([0.4903456 , 0.6538341 , 0.50474566, ..., 0.33293316, 0.41504365,\n",
      "       0.19594885], dtype=float32), array([0.4903456 , 0.6538341 , 0.50474566, ..., 0.33293316, 0.41504365,\n",
      "       0.19594885], dtype=float32)]\n",
      "b'4'\n",
      "2\n",
      "2048\n",
      "[array([0.4903456 , 0.6538341 , 0.50474566, ..., 0.33293316, 0.41504365,\n",
      "       0.19594885], dtype=float32), array([0.4903456 , 0.6538341 , 0.50474566, ..., 0.33293316, 0.41504365,\n",
      "       0.19594885], dtype=float32)]\n",
      "b'7'\n",
      "1\n",
      "2048\n",
      "[array([0.4903456 , 0.6538341 , 0.50474566, ..., 0.33293316, 0.41504365,\n",
      "       0.19594885], dtype=float32)]\n",
      "b'6'\n",
      "1\n",
      "2048\n",
      "[array([0.4903456 , 0.6538341 , 0.50474566, ..., 0.33293316, 0.41504365,\n",
      "       0.19594885], dtype=float32)]\n"
     ]
    }
   ],
   "source": [
    "print(\"length=\", len(new_bbxs))\n",
    "print(new_bbxs[0].keys())\n",
    "for key in new_bbxs[0].keys():\n",
    "    print(key)\n",
    "    print(len(new_bbxs[0][key]))\n",
    "    print(len(new_bbxs[0][key][0]))\n",
    "    print(new_bbxs[0][key])"
   ]
  },
  {
   "cell_type": "code",
   "execution_count": 4,
   "metadata": {},
   "outputs": [
    {
     "name": "stdout",
     "output_type": "stream",
     "text": [
      "length= 1000\n",
      "dict_keys([b'203', b'205', b'204', b'207', b'206'])\n",
      "b'203'\n",
      "1\n",
      "2048\n",
      "[array([0.3327435 , 1.9643334 , 0.37796566, ..., 0.24724895, 0.2372755 ,\n",
      "       0.25444824], dtype=float32)]\n",
      "b'205'\n",
      "1\n",
      "2048\n",
      "[array([0.3327435 , 1.9643334 , 0.37796566, ..., 0.24724895, 0.2372755 ,\n",
      "       0.25444824], dtype=float32)]\n",
      "b'204'\n",
      "1\n",
      "2048\n",
      "[array([0.3327435 , 1.9643334 , 0.37796566, ..., 0.24724895, 0.2372755 ,\n",
      "       0.25444824], dtype=float32)]\n",
      "b'207'\n",
      "1\n",
      "2048\n",
      "[array([0.3327435 , 1.9643334 , 0.37796566, ..., 0.24724895, 0.2372755 ,\n",
      "       0.25444824], dtype=float32)]\n",
      "b'206'\n",
      "1\n",
      "2048\n",
      "[array([0.3327435 , 1.9643334 , 0.37796566, ..., 0.24724895, 0.2372755 ,\n",
      "       0.25444824], dtype=float32)]\n"
     ]
    }
   ],
   "source": [
    "test_in_bbx_file = \"./flickr30k_test_resnet50_boundingbox_global.npy\"\n",
    "test_in_feat_file = \"/home/xhuang/work/corpus/multi30k/image_features/flickr30k_test_resnet50_cnn_features_global.npy\"\n",
    "test_out_bbx_file = \"./flickr30k_test_resnet50_global.npy\"\n",
    "\n",
    "test_new_bbxs = fill(test_in_bbx_file, test_in_feat_file, test_out_bbx_file)\n",
    "print(\"length=\", len(test_new_bbxs))\n",
    "print(test_new_bbxs[0].keys())\n",
    "for key in test_new_bbxs[0].keys():\n",
    "    print(key)\n",
    "    print(len(test_new_bbxs[0][key]))\n",
    "    print(len(test_new_bbxs[0][key][0]))\n",
    "    print(test_new_bbxs[0][key])"
   ]
  },
  {
   "cell_type": "code",
   "execution_count": 6,
   "metadata": {},
   "outputs": [
    {
     "name": "stdout",
     "output_type": "stream",
     "text": [
      "length= 1014\n",
      "dict_keys([b'568', b'569', b'571', b'570'])\n",
      "b'568'\n",
      "1\n",
      "2048\n",
      "[array([0.34007454, 0.01787711, 0.15016143, ..., 0.24338631, 0.17729685,\n",
      "       0.26713252], dtype=float32)]\n",
      "b'569'\n",
      "3\n",
      "2048\n",
      "[array([0.34007454, 0.01787711, 0.15016143, ..., 0.24338631, 0.17729685,\n",
      "       0.26713252], dtype=float32), array([0.34007454, 0.01787711, 0.15016143, ..., 0.24338631, 0.17729685,\n",
      "       0.26713252], dtype=float32), array([0.34007454, 0.01787711, 0.15016143, ..., 0.24338631, 0.17729685,\n",
      "       0.26713252], dtype=float32)]\n",
      "b'571'\n",
      "1\n",
      "2048\n",
      "[array([0.34007454, 0.01787711, 0.15016143, ..., 0.24338631, 0.17729685,\n",
      "       0.26713252], dtype=float32)]\n",
      "b'570'\n",
      "1\n",
      "2048\n",
      "[array([0.34007454, 0.01787711, 0.15016143, ..., 0.24338631, 0.17729685,\n",
      "       0.26713252], dtype=float32)]\n"
     ]
    }
   ],
   "source": [
    "val_in_bbx_file = \"./flickr30k_val_resnet50_boundingbox_global.npy\"\n",
    "val_in_feat_file = \"/home/xhuang/work/corpus/multi30k/image_features/flickr30k_valid_resnet50_cnn_features_global.npy\"\n",
    "val_out_bbx_file = \"./flickr30k_val_resnet50_global.npy\"\n",
    "\n",
    "val_new_bbxs = fill(val_in_bbx_file, val_in_feat_file, val_out_bbx_file)\n",
    "print(\"length=\", len(val_new_bbxs))\n",
    "print(val_new_bbxs[0].keys())\n",
    "for key in val_new_bbxs[0].keys():\n",
    "    print(key)\n",
    "    print(len(val_new_bbxs[0][key]))\n",
    "    print(len(val_new_bbxs[0][key][0]))\n",
    "    print(val_new_bbxs[0][key])"
   ]
  },
  {
   "cell_type": "code",
   "execution_count": null,
   "metadata": {},
   "outputs": [],
   "source": []
  }
 ],
 "metadata": {
  "kernelspec": {
   "display_name": "torch1.3",
   "language": "python",
   "name": "torch1.3"
  },
  "language_info": {
   "codemirror_mode": {
    "name": "ipython",
    "version": 3
   },
   "file_extension": ".py",
   "mimetype": "text/x-python",
   "name": "python",
   "nbconvert_exporter": "python",
   "pygments_lexer": "ipython3",
   "version": "3.6.9"
  }
 },
 "nbformat": 4,
 "nbformat_minor": 2
}

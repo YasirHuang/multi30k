{
 "cells": [
  {
   "cell_type": "markdown",
   "metadata": {},
   "source": [
    "# data format\n",
    "data[sentence_id_in_order][phrase_id][index_of_boundingbox_for_phraseid] = 2048dim global_image_feature\n",
    "\n",
    "three indexes:\n",
    "\n",
    "    sentence_id_in_order: for training data is [0-28999]\n",
    "    \n",
    "    phrase_id: like below b'203', b'205', b'204', b'207', b'206'\n",
    "    \n",
    "    index_of_boundingbox_for_phraseid: always >= 1"
   ]
  },
  {
   "cell_type": "code",
   "execution_count": 18,
   "metadata": {},
   "outputs": [
    {
     "name": "stdout",
     "output_type": "stream",
     "text": [
      "length= 1000\n",
      "dict_keys([b'203', b'205', b'204', b'207', b'206'])\n",
      "b'203'\n",
      "1\n",
      "2048\n",
      "[array([0.04971668, 0.4524775 , 0.09341164, ..., 0.08236386, 0.02540099,\n",
      "       0.31938487], dtype=float32)]\n",
      "b'205'\n",
      "1\n",
      "2048\n",
      "[array([0.01034196, 0.6783842 , 0.02924794, ..., 0.00802367, 1.3958297 ,\n",
      "       0.29046392], dtype=float32)]\n",
      "b'204'\n",
      "1\n",
      "2048\n",
      "[array([0.05655067, 0.3087561 , 0.02380515, ..., 0.08529309, 1.1834327 ,\n",
      "       0.05344763], dtype=float32)]\n",
      "b'207'\n",
      "1\n",
      "2048\n",
      "[array([0.       , 0.       , 0.       , ..., 3.2371216, 0.       ,\n",
      "       0.       ], dtype=float32)]\n",
      "b'206'\n",
      "1\n",
      "2048\n",
      "[array([3.2022931e-02, 4.4302645e-04, 0.0000000e+00, ..., 3.4690752e+00,\n",
      "       0.0000000e+00, 0.0000000e+00], dtype=float32)]\n"
     ]
    }
   ],
   "source": [
    "import numpy as np\n",
    "test_data = np.load('./flickr30k_test_resnet50_boundingbox_global.npy', allow_pickle=True, encoding='bytes')\n",
    "print(\"length=\", len(test_data))\n",
    "print(test_data[0].keys())\n",
    "for key in test_data[0].keys():\n",
    "    print(key)\n",
    "    print(len(test_data[0][key]))\n",
    "    print(len(test_data[0][key][0]))\n",
    "    print(test_data[0][key])"
   ]
  },
  {
   "cell_type": "code",
   "execution_count": null,
   "metadata": {},
   "outputs": [],
   "source": []
  }
 ],
 "metadata": {
  "kernelspec": {
   "display_name": "torch1.3",
   "language": "python",
   "name": "torch1.3"
  },
  "language_info": {
   "codemirror_mode": {
    "name": "ipython",
    "version": 3
   },
   "file_extension": ".py",
   "mimetype": "text/x-python",
   "name": "python",
   "nbconvert_exporter": "python",
   "pygments_lexer": "ipython3",
   "version": "3.6.9"
  }
 },
 "nbformat": 4,
 "nbformat_minor": 2
}

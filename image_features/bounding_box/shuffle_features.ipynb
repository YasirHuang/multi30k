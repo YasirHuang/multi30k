{
 "cells": [
  {
   "cell_type": "code",
   "execution_count": 1,
   "metadata": {},
   "outputs": [],
   "source": [
    "import numpy as np\n",
    "import random\n",
    "import six\n",
    "\n",
    "def get_random_feat(features, index=-1):\n",
    "    if index < 0:\n",
    "        total_num = len(features)\n",
    "        ri = random.randint(0, total_num-1)\n",
    "    else:\n",
    "        ri = index\n",
    "    rentities = list(six.viewvalues(features[ri]))\n",
    "    entity_num = len(rentities)\n",
    "    if entity_num == 0:\n",
    "        return None if index >= 0 else get_random_feat(features)\n",
    "    rj = 0 if entity_num == 1 else random.randint(0, entity_num-1)\n",
    "    rfeat = rentities[rj]\n",
    "    return rfeat\n",
    "        \n",
    "\n",
    "def shuffle(in_npyfile, out_npyfile, shuffle_all=True):\n",
    "    print(\"in_file:{}\\nout_file:{}\\nmode={}\".format(in_npyfile, out_npyfile, \"shuffle_all\" if shuffle_all else \"shuffle_entity\"))\n",
    "    features = np.load(in_npyfile, allow_pickle=True, encoding='bytes')\n",
    "    out_features = []\n",
    "    total_num = len(features)\n",
    "    for i in range(total_num):\n",
    "        entities = features[i]\n",
    "        out_entities = {}\n",
    "        for k, v in six.iteritems(entities):\n",
    "            out_entities[k] = get_random_feat(features, index=-1 if shuffle_all else i)\n",
    "        out_features.append(out_entities)\n",
    "            \n",
    "    np.save(out_npyfile, out_features)\n",
    "    print(\"done\")\n",
    "            "
   ]
  },
  {
   "cell_type": "code",
   "execution_count": 2,
   "metadata": {},
   "outputs": [
    {
     "name": "stdout",
     "output_type": "stream",
     "text": [
      "in_file:./flickr30k_train_resnet50_boundingbox_global.npy\n",
      "out_file:./flickr30k_train_resnet50_shfall_boundingbox_global.npy\n",
      "mode=shuffle_all\n",
      "done\n",
      "in_file:./flickr30k_val_resnet50_boundingbox_global.npy\n",
      "out_file:./flickr30k_val_resnet50_shfall_boundingbox_global.npy\n",
      "mode=shuffle_all\n",
      "done\n",
      "in_file:./flickr30k_test_resnet50_boundingbox_global.npy\n",
      "out_file:./flickr30k_test_resnet50_shfall_boundingbox_global.npy\n",
      "mode=shuffle_all\n",
      "done\n",
      "in_file:./flickr30k_train_resnet50_boundingbox_global.npy\n",
      "out_file:./flickr30k_train_resnet50_shfentity_boundingbox_global.npy\n",
      "mode=shuffle_entity\n",
      "done\n",
      "in_file:./flickr30k_val_resnet50_boundingbox_global.npy\n",
      "out_file:./flickr30k_val_resnet50_shfentity_boundingbox_global.npy\n",
      "mode=shuffle_entity\n",
      "done\n",
      "in_file:./flickr30k_test_resnet50_boundingbox_global.npy\n",
      "out_file:./flickr30k_test_resnet50_shfentity_boundingbox_global.npy\n",
      "mode=shuffle_entity\n",
      "done\n"
     ]
    }
   ],
   "source": [
    "train_in_npy = \"./flickr30k_train_resnet50_boundingbox_global.npy\"\n",
    "val_in_npy = \"./flickr30k_val_resnet50_boundingbox_global.npy\"\n",
    "test_in_npy = \"./flickr30k_test_resnet50_boundingbox_global.npy\"\n",
    "\n",
    "train_out_shfall_npy = \"./flickr30k_train_resnet50_shfall_boundingbox_global.npy\"\n",
    "val_out_shfall_npy = \"./flickr30k_val_resnet50_shfall_boundingbox_global.npy\"\n",
    "test_out_shfall_npy = \"./flickr30k_test_resnet50_shfall_boundingbox_global.npy\"\n",
    "\n",
    "train_out_shfentity_npy = \"./flickr30k_train_resnet50_shfentity_boundingbox_global.npy\"\n",
    "val_out_shfentity_npy = \"./flickr30k_val_resnet50_shfentity_boundingbox_global.npy\"\n",
    "test_out_shfentity_npy = \"./flickr30k_test_resnet50_shfentity_boundingbox_global.npy\"\n",
    "\n",
    "shuffle(train_in_npy, train_out_shfall_npy, shuffle_all=True)\n",
    "shuffle(val_in_npy, val_out_shfall_npy, shuffle_all=True)\n",
    "shuffle(test_in_npy, test_out_shfall_npy, shuffle_all=True)\n",
    "\n",
    "shuffle(train_in_npy, train_out_shfentity_npy, shuffle_all=False)\n",
    "shuffle(val_in_npy, val_out_shfentity_npy, shuffle_all=False)\n",
    "shuffle(test_in_npy, test_out_shfentity_npy, shuffle_all=False)"
   ]
  },
  {
   "cell_type": "code",
   "execution_count": 4,
   "metadata": {},
   "outputs": [
    {
     "name": "stdout",
     "output_type": "stream",
     "text": [
      "in_file:/home/xhuang/work/GMNMT/data/bpe_data_rebuilded/train.res.npy\n",
      "out_file:/home/xhuang/work/GMNMT/data/bpe_data_rebuilded/train.res.shfall.npy\n",
      "mode=shuffle_all\n",
      "done\n",
      "in_file:/home/xhuang/work/GMNMT/data/bpe_data_rebuilded/val.res.npy\n",
      "out_file:/home/xhuang/work/GMNMT/data/bpe_data_rebuilded/val.res.shfall.npy\n",
      "mode=shuffle_all\n",
      "done\n",
      "in_file:/home/xhuang/work/GMNMT/data/bpe_data_rebuilded/test_2016_flickr.res.npy\n",
      "out_file:/home/xhuang/work/GMNMT/data/bpe_data_rebuilded/test_2016_flickr.res.shfall.npy\n",
      "mode=shuffle_all\n",
      "done\n",
      "in_file:/home/xhuang/work/GMNMT/data/bpe_data_rebuilded/train.res.npy\n",
      "out_file:/home/xhuang/work/GMNMT/data/bpe_data_rebuilded/train.res.shfentity.npy\n",
      "mode=shuffle_entity\n",
      "done\n",
      "in_file:/home/xhuang/work/GMNMT/data/bpe_data_rebuilded/val.res.npy\n",
      "out_file:/home/xhuang/work/GMNMT/data/bpe_data_rebuilded/val.res.shfentity.npy\n",
      "mode=shuffle_entity\n",
      "done\n",
      "in_file:/home/xhuang/work/GMNMT/data/bpe_data_rebuilded/test_2016_flickr.res.npy\n",
      "out_file:/home/xhuang/work/GMNMT/data/bpe_data_rebuilded/test_2016_flickr.res.shfentity.npy\n",
      "mode=shuffle_entity\n",
      "done\n"
     ]
    }
   ],
   "source": [
    "gm_train_in_npy = \"/home/xhuang/work/GMNMT/data/bpe_data_rebuilded/train.res.npy\"\n",
    "gm_val_in_npy = \"/home/xhuang/work/GMNMT/data/bpe_data_rebuilded/val.res.npy\"\n",
    "gm_test_in_npy = \"/home/xhuang/work/GMNMT/data/bpe_data_rebuilded/test_2016_flickr.res.npy\"\n",
    "\n",
    "gm_train_out_shfall_npy = \"/home/xhuang/work/GMNMT/data/bpe_data_rebuilded/train.res.shfall.npy\"\n",
    "gm_val_out_shfall_npy = \"/home/xhuang/work/GMNMT/data/bpe_data_rebuilded/val.res.shfall.npy\"\n",
    "gm_test_out_shfall_npy = \"/home/xhuang/work/GMNMT/data/bpe_data_rebuilded/test_2016_flickr.res.shfall.npy\"\n",
    "\n",
    "gm_train_out_shfentity_npy = \"/home/xhuang/work/GMNMT/data/bpe_data_rebuilded/train.res.shfentity.npy\"\n",
    "gm_val_out_shfentity_npy = \"/home/xhuang/work/GMNMT/data/bpe_data_rebuilded/val.res.shfentity.npy\"\n",
    "gm_test_out_shfentity_npy = \"/home/xhuang/work/GMNMT/data/bpe_data_rebuilded/test_2016_flickr.res.shfentity.npy\"\n",
    "\n",
    "shuffle(gm_train_in_npy, gm_train_out_shfall_npy, shuffle_all=True)\n",
    "shuffle(gm_val_in_npy, gm_val_out_shfall_npy, shuffle_all=True)\n",
    "shuffle(gm_test_in_npy, gm_test_out_shfall_npy, shuffle_all=True)\n",
    "\n",
    "shuffle(gm_train_in_npy, gm_train_out_shfentity_npy, shuffle_all=False)\n",
    "shuffle(gm_val_in_npy, gm_val_out_shfentity_npy, shuffle_all=False)\n",
    "shuffle(gm_test_in_npy, gm_test_out_shfentity_npy, shuffle_all=False)"
   ]
  },
  {
   "cell_type": "code",
   "execution_count": null,
   "metadata": {},
   "outputs": [],
   "source": []
  }
 ],
 "metadata": {
  "kernelspec": {
   "display_name": "torch1.3",
   "language": "python",
   "name": "torch1.3"
  },
  "language_info": {
   "codemirror_mode": {
    "name": "ipython",
    "version": 3
   },
   "file_extension": ".py",
   "mimetype": "text/x-python",
   "name": "python",
   "nbconvert_exporter": "python",
   "pygments_lexer": "ipython3",
   "version": "3.6.9"
  }
 },
 "nbformat": 4,
 "nbformat_minor": 2
}
